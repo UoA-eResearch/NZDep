{
 "metadata": {
  "language_info": {
   "codemirror_mode": {
    "name": "ipython",
    "version": 3
   },
   "file_extension": ".py",
   "mimetype": "text/x-python",
   "name": "python",
   "nbconvert_exporter": "python",
   "pygments_lexer": "ipython3",
   "version": "3.6.9-final"
  },
  "orig_nbformat": 2,
  "kernelspec": {
   "name": "python36964bit29e3c49a4a324ceaaa2a919cf9d3ccc4",
   "display_name": "Python 3.6.9 64-bit",
   "language": "python"
  }
 },
 "nbformat": 4,
 "nbformat_minor": 2,
 "cells": [
  {
   "cell_type": "code",
   "execution_count": 53,
   "metadata": {},
   "outputs": [
    {
     "output_type": "execute_result",
     "data": {
      "text/plain": [
       "        NZDep1991 CAU score  NZDep1991 CAU scale  NZDep1991 pop\n",
       "CAU                                                            \n",
       "500100                 1129                   10            333\n",
       "500202                 1085                    9           3183\n",
       "500203                 1045                    8           1233\n",
       "500204                 1054                    8           1593\n",
       "500205                 1083                    9            894\n",
       "...                     ...                  ...            ...\n",
       "626801                    0                    0              0\n",
       "626802                    0                    0              0\n",
       "626900                    0                    0              0\n",
       "627000                    0                    0              0\n",
       "627200                    0                    0              0\n",
       "\n",
       "[1716 rows x 3 columns]"
      ],
      "text/html": "<div>\n<style scoped>\n    .dataframe tbody tr th:only-of-type {\n        vertical-align: middle;\n    }\n\n    .dataframe tbody tr th {\n        vertical-align: top;\n    }\n\n    .dataframe thead th {\n        text-align: right;\n    }\n</style>\n<table border=\"1\" class=\"dataframe\">\n  <thead>\n    <tr style=\"text-align: right;\">\n      <th></th>\n      <th>NZDep1991 CAU score</th>\n      <th>NZDep1991 CAU scale</th>\n      <th>NZDep1991 pop</th>\n    </tr>\n    <tr>\n      <th>CAU</th>\n      <th></th>\n      <th></th>\n      <th></th>\n    </tr>\n  </thead>\n  <tbody>\n    <tr>\n      <th>500100</th>\n      <td>1129</td>\n      <td>10</td>\n      <td>333</td>\n    </tr>\n    <tr>\n      <th>500202</th>\n      <td>1085</td>\n      <td>9</td>\n      <td>3183</td>\n    </tr>\n    <tr>\n      <th>500203</th>\n      <td>1045</td>\n      <td>8</td>\n      <td>1233</td>\n    </tr>\n    <tr>\n      <th>500204</th>\n      <td>1054</td>\n      <td>8</td>\n      <td>1593</td>\n    </tr>\n    <tr>\n      <th>500205</th>\n      <td>1083</td>\n      <td>9</td>\n      <td>894</td>\n    </tr>\n    <tr>\n      <th>...</th>\n      <td>...</td>\n      <td>...</td>\n      <td>...</td>\n    </tr>\n    <tr>\n      <th>626801</th>\n      <td>0</td>\n      <td>0</td>\n      <td>0</td>\n    </tr>\n    <tr>\n      <th>626802</th>\n      <td>0</td>\n      <td>0</td>\n      <td>0</td>\n    </tr>\n    <tr>\n      <th>626900</th>\n      <td>0</td>\n      <td>0</td>\n      <td>0</td>\n    </tr>\n    <tr>\n      <th>627000</th>\n      <td>0</td>\n      <td>0</td>\n      <td>0</td>\n    </tr>\n    <tr>\n      <th>627200</th>\n      <td>0</td>\n      <td>0</td>\n      <td>0</td>\n    </tr>\n  </tbody>\n</table>\n<p>1716 rows × 3 columns</p>\n</div>"
     },
     "metadata": {},
     "execution_count": 53
    }
   ],
   "source": [
    "import pandas as pd\n",
    "\n",
    "nzdep1991 = pd.read_csv(\"NZDep1991CAU.txt\", sep=\"\\t\", index_col=\"CAU\", header=0, names=[\"CAU\", \"NZDep1991 CAU score\", \"NZDep1991 CAU scale\", \"NZDep1991 pop\"])\n",
    "nzdep1991"
   ]
  },
  {
   "cell_type": "code",
   "execution_count": 54,
   "metadata": {},
   "outputs": [
    {
     "output_type": "execute_result",
     "data": {
      "text/plain": [
       "                NZDep1996 CAU name  NZDep1996 CAU score  NZDep1996 CAU scale  \\\n",
       "CAU                                                                            \n",
       "500100                      Awanui                 1121                   10   \n",
       "500202               Mangonui East                 1091                    9   \n",
       "500203          Taipa Bay-Mangonui                 1040                    8   \n",
       "500204               Mangonui West                 1074                    9   \n",
       "500205                     Ahipara                 1131                   10   \n",
       "...                            ...                  ...                  ...   \n",
       "626900            Oceanic-Oil Rigs                    0                    0   \n",
       "627000  Inlet-Jacobs River Estuary                    0                    0   \n",
       "627200    Oceanic-Southland Region                 1029                    8   \n",
       "628000             Ross Dependency                    0                    0   \n",
       "666666            NZ Economic Zone                    0                    0   \n",
       "\n",
       "        NZDep1996 CAU pop  \n",
       "CAU                        \n",
       "500100              352.0  \n",
       "500202             3838.0  \n",
       "500203             1494.0  \n",
       "500204             1943.0  \n",
       "500205              923.0  \n",
       "...                   ...  \n",
       "626900                0.0  \n",
       "627000                0.0  \n",
       "627200               50.0  \n",
       "628000                0.0  \n",
       "666666                0.0  \n",
       "\n",
       "[1775 rows x 4 columns]"
      ],
      "text/html": "<div>\n<style scoped>\n    .dataframe tbody tr th:only-of-type {\n        vertical-align: middle;\n    }\n\n    .dataframe tbody tr th {\n        vertical-align: top;\n    }\n\n    .dataframe thead th {\n        text-align: right;\n    }\n</style>\n<table border=\"1\" class=\"dataframe\">\n  <thead>\n    <tr style=\"text-align: right;\">\n      <th></th>\n      <th>NZDep1996 CAU name</th>\n      <th>NZDep1996 CAU score</th>\n      <th>NZDep1996 CAU scale</th>\n      <th>NZDep1996 CAU pop</th>\n    </tr>\n    <tr>\n      <th>CAU</th>\n      <th></th>\n      <th></th>\n      <th></th>\n      <th></th>\n    </tr>\n  </thead>\n  <tbody>\n    <tr>\n      <th>500100</th>\n      <td>Awanui</td>\n      <td>1121</td>\n      <td>10</td>\n      <td>352.0</td>\n    </tr>\n    <tr>\n      <th>500202</th>\n      <td>Mangonui East</td>\n      <td>1091</td>\n      <td>9</td>\n      <td>3838.0</td>\n    </tr>\n    <tr>\n      <th>500203</th>\n      <td>Taipa Bay-Mangonui</td>\n      <td>1040</td>\n      <td>8</td>\n      <td>1494.0</td>\n    </tr>\n    <tr>\n      <th>500204</th>\n      <td>Mangonui West</td>\n      <td>1074</td>\n      <td>9</td>\n      <td>1943.0</td>\n    </tr>\n    <tr>\n      <th>500205</th>\n      <td>Ahipara</td>\n      <td>1131</td>\n      <td>10</td>\n      <td>923.0</td>\n    </tr>\n    <tr>\n      <th>...</th>\n      <td>...</td>\n      <td>...</td>\n      <td>...</td>\n      <td>...</td>\n    </tr>\n    <tr>\n      <th>626900</th>\n      <td>Oceanic-Oil Rigs</td>\n      <td>0</td>\n      <td>0</td>\n      <td>0.0</td>\n    </tr>\n    <tr>\n      <th>627000</th>\n      <td>Inlet-Jacobs River Estuary</td>\n      <td>0</td>\n      <td>0</td>\n      <td>0.0</td>\n    </tr>\n    <tr>\n      <th>627200</th>\n      <td>Oceanic-Southland Region</td>\n      <td>1029</td>\n      <td>8</td>\n      <td>50.0</td>\n    </tr>\n    <tr>\n      <th>628000</th>\n      <td>Ross Dependency</td>\n      <td>0</td>\n      <td>0</td>\n      <td>0.0</td>\n    </tr>\n    <tr>\n      <th>666666</th>\n      <td>NZ Economic Zone</td>\n      <td>0</td>\n      <td>0</td>\n      <td>0.0</td>\n    </tr>\n  </tbody>\n</table>\n<p>1775 rows × 4 columns</p>\n</div>"
     },
     "metadata": {},
     "execution_count": 54
    }
   ],
   "source": [
    "nzdep1996 = pd.read_csv(\"NZDep1996CAU.txt\", sep=\"\\t\", header=0, names=[\"CAU\", \"NZDep1996 CAU name\", \"NZDep1996 CAU score\", \"NZDep1996 CAU scale\", \"NZDep1996 CAU pop\"], index_col=\"CAU\")\n",
    "nzdep1996"
   ]
  },
  {
   "cell_type": "code",
   "execution_count": 55,
   "metadata": {},
   "outputs": [
    {
     "output_type": "execute_result",
     "data": {
      "text/plain": [
       "                NZDep2001 CAU name  NZDep2001 CAU scale  NZDep2001 CAU score\n",
       "CAU                                                                         \n",
       "500100                      Awanui                 10.0               1117.0\n",
       "500202               Mangonui East                  9.0               1101.0\n",
       "500203          Taipa Bay-Mangonui                  9.0               1071.0\n",
       "500204               Mangonui West                  9.0               1075.0\n",
       "500205                     Ahipara                  9.0               1100.0\n",
       "...                            ...                  ...                  ...\n",
       "626900   Oceanic-Oil Rig Southland                  NaN                  NaN\n",
       "627000  Inlet-Jacobs River Estuary                  NaN                  NaN\n",
       "627201    Oceanic-Southland Region                  NaN                  NaN\n",
       "627203    Oceanic-Auckland Islands                  NaN                  NaN\n",
       "627204            Auckland Islands                  NaN                  NaN\n",
       "\n",
       "[1852 rows x 3 columns]"
      ],
      "text/html": "<div>\n<style scoped>\n    .dataframe tbody tr th:only-of-type {\n        vertical-align: middle;\n    }\n\n    .dataframe tbody tr th {\n        vertical-align: top;\n    }\n\n    .dataframe thead th {\n        text-align: right;\n    }\n</style>\n<table border=\"1\" class=\"dataframe\">\n  <thead>\n    <tr style=\"text-align: right;\">\n      <th></th>\n      <th>NZDep2001 CAU name</th>\n      <th>NZDep2001 CAU scale</th>\n      <th>NZDep2001 CAU score</th>\n    </tr>\n    <tr>\n      <th>CAU</th>\n      <th></th>\n      <th></th>\n      <th></th>\n    </tr>\n  </thead>\n  <tbody>\n    <tr>\n      <th>500100</th>\n      <td>Awanui</td>\n      <td>10.0</td>\n      <td>1117.0</td>\n    </tr>\n    <tr>\n      <th>500202</th>\n      <td>Mangonui East</td>\n      <td>9.0</td>\n      <td>1101.0</td>\n    </tr>\n    <tr>\n      <th>500203</th>\n      <td>Taipa Bay-Mangonui</td>\n      <td>9.0</td>\n      <td>1071.0</td>\n    </tr>\n    <tr>\n      <th>500204</th>\n      <td>Mangonui West</td>\n      <td>9.0</td>\n      <td>1075.0</td>\n    </tr>\n    <tr>\n      <th>500205</th>\n      <td>Ahipara</td>\n      <td>9.0</td>\n      <td>1100.0</td>\n    </tr>\n    <tr>\n      <th>...</th>\n      <td>...</td>\n      <td>...</td>\n      <td>...</td>\n    </tr>\n    <tr>\n      <th>626900</th>\n      <td>Oceanic-Oil Rig Southland</td>\n      <td>NaN</td>\n      <td>NaN</td>\n    </tr>\n    <tr>\n      <th>627000</th>\n      <td>Inlet-Jacobs River Estuary</td>\n      <td>NaN</td>\n      <td>NaN</td>\n    </tr>\n    <tr>\n      <th>627201</th>\n      <td>Oceanic-Southland Region</td>\n      <td>NaN</td>\n      <td>NaN</td>\n    </tr>\n    <tr>\n      <th>627203</th>\n      <td>Oceanic-Auckland Islands</td>\n      <td>NaN</td>\n      <td>NaN</td>\n    </tr>\n    <tr>\n      <th>627204</th>\n      <td>Auckland Islands</td>\n      <td>NaN</td>\n      <td>NaN</td>\n    </tr>\n  </tbody>\n</table>\n<p>1852 rows × 3 columns</p>\n</div>"
     },
     "metadata": {},
     "execution_count": 55
    }
   ],
   "source": [
    "nzdep2001 = pd.read_csv(\"NZDep2001CAU.txt\", sep=\"\\t\", header=0, names=[\"CAU\", \"NZDep2001 CAU name\", \"NZDep2001 CAU scale\", \"NZDep2001 CAU score\"], index_col=\"CAU\")\n",
    "nzdep2001"
   ]
  },
  {
   "cell_type": "code",
   "execution_count": 56,
   "metadata": {},
   "outputs": [
    {
     "output_type": "execute_result",
     "data": {
      "text/plain": [
       "                      NZDep2006 CAU name  NZDep2006 CAU scale  \\\n",
       "CAU                                                             \n",
       "500100                            Awanui                  9.0   \n",
       "500202  Karikari Peninsula-Maungataniwha                  9.0   \n",
       "500203                Taipa Bay-Mangonui                  8.0   \n",
       "500204                          Herekino                  8.0   \n",
       "500205                           Ahipara                  9.0   \n",
       "...                                  ...                  ...   \n",
       "666669                    Bounty Islands                  NaN   \n",
       "666670            Oceanic-Snares Islands                  NaN   \n",
       "666671                     Snares Island                  NaN   \n",
       "666672         Oceanic-Antipodes Islands                  NaN   \n",
       "666673                 Antipodes Islands                  NaN   \n",
       "\n",
       "        NZDep2006 CAU score  \n",
       "CAU                          \n",
       "500100               1086.0  \n",
       "500202               1073.0  \n",
       "500203               1047.0  \n",
       "500204               1044.0  \n",
       "500205               1082.0  \n",
       "...                     ...  \n",
       "666669                  NaN  \n",
       "666670                  NaN  \n",
       "666671                  NaN  \n",
       "666672                  NaN  \n",
       "666673                  NaN  \n",
       "\n",
       "[1927 rows x 3 columns]"
      ],
      "text/html": "<div>\n<style scoped>\n    .dataframe tbody tr th:only-of-type {\n        vertical-align: middle;\n    }\n\n    .dataframe tbody tr th {\n        vertical-align: top;\n    }\n\n    .dataframe thead th {\n        text-align: right;\n    }\n</style>\n<table border=\"1\" class=\"dataframe\">\n  <thead>\n    <tr style=\"text-align: right;\">\n      <th></th>\n      <th>NZDep2006 CAU name</th>\n      <th>NZDep2006 CAU scale</th>\n      <th>NZDep2006 CAU score</th>\n    </tr>\n    <tr>\n      <th>CAU</th>\n      <th></th>\n      <th></th>\n      <th></th>\n    </tr>\n  </thead>\n  <tbody>\n    <tr>\n      <th>500100</th>\n      <td>Awanui</td>\n      <td>9.0</td>\n      <td>1086.0</td>\n    </tr>\n    <tr>\n      <th>500202</th>\n      <td>Karikari Peninsula-Maungataniwha</td>\n      <td>9.0</td>\n      <td>1073.0</td>\n    </tr>\n    <tr>\n      <th>500203</th>\n      <td>Taipa Bay-Mangonui</td>\n      <td>8.0</td>\n      <td>1047.0</td>\n    </tr>\n    <tr>\n      <th>500204</th>\n      <td>Herekino</td>\n      <td>8.0</td>\n      <td>1044.0</td>\n    </tr>\n    <tr>\n      <th>500205</th>\n      <td>Ahipara</td>\n      <td>9.0</td>\n      <td>1082.0</td>\n    </tr>\n    <tr>\n      <th>...</th>\n      <td>...</td>\n      <td>...</td>\n      <td>...</td>\n    </tr>\n    <tr>\n      <th>666669</th>\n      <td>Bounty Islands</td>\n      <td>NaN</td>\n      <td>NaN</td>\n    </tr>\n    <tr>\n      <th>666670</th>\n      <td>Oceanic-Snares Islands</td>\n      <td>NaN</td>\n      <td>NaN</td>\n    </tr>\n    <tr>\n      <th>666671</th>\n      <td>Snares Island</td>\n      <td>NaN</td>\n      <td>NaN</td>\n    </tr>\n    <tr>\n      <th>666672</th>\n      <td>Oceanic-Antipodes Islands</td>\n      <td>NaN</td>\n      <td>NaN</td>\n    </tr>\n    <tr>\n      <th>666673</th>\n      <td>Antipodes Islands</td>\n      <td>NaN</td>\n      <td>NaN</td>\n    </tr>\n  </tbody>\n</table>\n<p>1927 rows × 3 columns</p>\n</div>"
     },
     "metadata": {},
     "execution_count": 56
    }
   ],
   "source": [
    "nzdep2006 = pd.read_csv(\"NZDep2006CAU.txt\", sep=\"\\t\", header=0, names=[\"CAU\", \"NZDep2006 CAU name\", \"NZDep2006 CAU scale\", \"NZDep2006 CAU score\"], index_col=\"CAU\")\n",
    "nzdep2006"
   ]
  },
  {
   "cell_type": "code",
   "execution_count": 57,
   "metadata": {},
   "outputs": [
    {
     "output_type": "execute_result",
     "data": {
      "text/plain": [
       "                      NZDep2013 CAU name  NZDep2013 CAU scale  \\\n",
       "CAU                                                             \n",
       "500100                            Awanui                    9   \n",
       "500202  Karikari Peninsula-Maungataniwha                    9   \n",
       "500203                Taipa Bay-Mangonui                    9   \n",
       "500204                          Herekino                    8   \n",
       "500205                           Ahipara                    9   \n",
       "...                                  ...                  ...   \n",
       "612740                           Fairfax                    3   \n",
       "612801                     Riverton East                    8   \n",
       "612802                     Riverton West                    6   \n",
       "612901                         Fiordland                    3   \n",
       "613000                    Stewart Island                    4   \n",
       "\n",
       "        NZDep2013 CAU score  \n",
       "CAU                          \n",
       "500100                 1100  \n",
       "500202                 1085  \n",
       "500203                 1065  \n",
       "500204                 1054  \n",
       "500205                 1088  \n",
       "...                     ...  \n",
       "612740                  933  \n",
       "612801                 1049  \n",
       "612802                  987  \n",
       "612901                  930  \n",
       "613000                  956  \n",
       "\n",
       "[1867 rows x 3 columns]"
      ],
      "text/html": "<div>\n<style scoped>\n    .dataframe tbody tr th:only-of-type {\n        vertical-align: middle;\n    }\n\n    .dataframe tbody tr th {\n        vertical-align: top;\n    }\n\n    .dataframe thead th {\n        text-align: right;\n    }\n</style>\n<table border=\"1\" class=\"dataframe\">\n  <thead>\n    <tr style=\"text-align: right;\">\n      <th></th>\n      <th>NZDep2013 CAU name</th>\n      <th>NZDep2013 CAU scale</th>\n      <th>NZDep2013 CAU score</th>\n    </tr>\n    <tr>\n      <th>CAU</th>\n      <th></th>\n      <th></th>\n      <th></th>\n    </tr>\n  </thead>\n  <tbody>\n    <tr>\n      <th>500100</th>\n      <td>Awanui</td>\n      <td>9</td>\n      <td>1100</td>\n    </tr>\n    <tr>\n      <th>500202</th>\n      <td>Karikari Peninsula-Maungataniwha</td>\n      <td>9</td>\n      <td>1085</td>\n    </tr>\n    <tr>\n      <th>500203</th>\n      <td>Taipa Bay-Mangonui</td>\n      <td>9</td>\n      <td>1065</td>\n    </tr>\n    <tr>\n      <th>500204</th>\n      <td>Herekino</td>\n      <td>8</td>\n      <td>1054</td>\n    </tr>\n    <tr>\n      <th>500205</th>\n      <td>Ahipara</td>\n      <td>9</td>\n      <td>1088</td>\n    </tr>\n    <tr>\n      <th>...</th>\n      <td>...</td>\n      <td>...</td>\n      <td>...</td>\n    </tr>\n    <tr>\n      <th>612740</th>\n      <td>Fairfax</td>\n      <td>3</td>\n      <td>933</td>\n    </tr>\n    <tr>\n      <th>612801</th>\n      <td>Riverton East</td>\n      <td>8</td>\n      <td>1049</td>\n    </tr>\n    <tr>\n      <th>612802</th>\n      <td>Riverton West</td>\n      <td>6</td>\n      <td>987</td>\n    </tr>\n    <tr>\n      <th>612901</th>\n      <td>Fiordland</td>\n      <td>3</td>\n      <td>930</td>\n    </tr>\n    <tr>\n      <th>613000</th>\n      <td>Stewart Island</td>\n      <td>4</td>\n      <td>956</td>\n    </tr>\n  </tbody>\n</table>\n<p>1867 rows × 3 columns</p>\n</div>"
     },
     "metadata": {},
     "execution_count": 57
    }
   ],
   "source": [
    "nzdep2013 = pd.read_csv(\"NZDep2013CAU.txt\", sep=\"\\t\", header=0, names=[\"CAU\", \"NZDep2013 CAU name\", \"NZDep2013 CAU scale\", \"NZDep2013 CAU score\"], index_col=\"CAU\")\n",
    "nzdep2013"
   ]
  },
  {
   "cell_type": "code",
   "execution_count": 58,
   "metadata": {},
   "outputs": [],
   "source": [
    "df = nzdep1991.join([nzdep1996, nzdep2001, nzdep2006, nzdep2013], how=\"outer\")\n",
    "df.to_csv(\"NZDep 1991-2013 CAU_merged.csv\")"
   ]
  }
 ]
}